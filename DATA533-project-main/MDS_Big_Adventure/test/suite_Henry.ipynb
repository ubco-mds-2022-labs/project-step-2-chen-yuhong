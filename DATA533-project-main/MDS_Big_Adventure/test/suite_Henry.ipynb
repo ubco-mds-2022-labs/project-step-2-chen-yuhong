{
 "cells": [
  {
   "cell_type": "code",
   "execution_count": null,
   "id": "bc6ff02d",
   "metadata": {},
   "outputs": [],
   "source": [
    "import unittest\n",
    "from test_food import TestItem\n",
    "from test_level import TestLevel\n",
    "from test_timhortons import TestTimhortons\n",
    "def my_suite():\n",
    "    \n",
    "    suite = unittest.TestSuite()\n",
    "    result = unittest.TestResult()\n",
    "    \n",
    "    suite.addTest(unittest.makeSuite(TestItem))\n",
    "    suite.addTest(unittest.makeSuite(TestLevel))\n",
    "    suite.addTest(unittest.makeSuite(TestTimhortons))\n",
    "    \n",
    "    runner = unittest.TextTestRunner()\n",
    "    print(runner.run(suite))\n",
    "\n",
    "my_suite()"
   ]
  }
 ],
 "metadata": {
  "kernelspec": {
   "display_name": "Python 3 (ipykernel)",
   "language": "python",
   "name": "python3"
  },
  "language_info": {
   "codemirror_mode": {
    "name": "ipython",
    "version": 3
   },
   "file_extension": ".py",
   "mimetype": "text/x-python",
   "name": "python",
   "nbconvert_exporter": "python",
   "pygments_lexer": "ipython3",
   "version": "3.9.12"
  }
 },
 "nbformat": 4,
 "nbformat_minor": 5
}
